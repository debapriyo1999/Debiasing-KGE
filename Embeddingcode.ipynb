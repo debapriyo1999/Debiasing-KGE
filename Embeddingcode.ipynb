{
  "cells": [
    {
      "cell_type": "markdown",
      "metadata": {
        "id": "view-in-github",
        "colab_type": "text"
      },
      "source": [
        "<a href=\"https://colab.research.google.com/github/debapriyo1999/Debiasing-KGE/blob/master/Embeddingcode.ipynb\" target=\"_parent\"><img src=\"https://colab.research.google.com/assets/colab-badge.svg\" alt=\"Open In Colab\"/></a>"
      ]
    },
    {
      "cell_type": "code",
      "execution_count": 6,
      "metadata": {
        "colab": {
          "base_uri": "https://localhost:8080/"
        },
        "id": "2GRURGw_AbtX",
        "outputId": "fbef709b-0f9b-4351-810e-f830eb045c40"
      },
      "outputs": [
        {
          "output_type": "stream",
          "name": "stdout",
          "text": [
            "Drive already mounted at /content/drive/; to attempt to forcibly remount, call drive.mount(\"/content/drive/\", force_remount=True).\n"
          ]
        }
      ],
      "source": [
        "from google.colab import drive\n",
        "drive.mount('/content/drive/')"
      ]
    },
    {
      "cell_type": "code",
      "execution_count": 7,
      "metadata": {
        "id": "IgfFfCIAKIur"
      },
      "outputs": [],
      "source": [
        "path='/content/drive/MyDrive/entity2vec.bin'"
      ]
    },
    {
      "cell_type": "code",
      "source": [
        "import numpy as np"
      ],
      "metadata": {
        "id": "Dey82Ag3QLPu"
      },
      "execution_count": 4,
      "outputs": []
    },
    {
      "cell_type": "code",
      "execution_count": 10,
      "metadata": {
        "id": "Ad8ms94H-9OO"
      },
      "outputs": [],
      "source": [
        "gg= open(\"/content/drive/MyDrive/entity2vec.bin\", \"rb\")"
      ]
    },
    {
      "cell_type": "code",
      "execution_count": 13,
      "metadata": {
        "colab": {
          "base_uri": "https://localhost:8080/"
        },
        "id": "EbfasP8Y_Y7K",
        "outputId": "cadf3c1c-f766-42e0-ed85-ec5355139f20"
      },
      "outputs": [
        {
          "output_type": "stream",
          "name": "stdout",
          "text": [
            "41965464\n"
          ]
        }
      ],
      "source": [
        "byte = gg.read(100)\n",
        "#dim_100=np.array()\n",
        "nume=0\n",
        "while byte:\n",
        "  number=list(byte)\n",
        "  number=np.array(number)\n",
        "  #np.vstack([dim_100,number])\n",
        " # dim_100=np.append(dim_100,number,axis=0)\n",
        "  nume=nume+1\n",
        "  byte = gg.read(100)\n",
        "print(nume)\n",
        "gg.close()"
      ]
    },
    {
      "cell_type": "code",
      "source": [
        "a = np.array([[1,2,3]])\n",
        "l=[4,5,6]\n",
        "np.vstack([a,l])"
      ],
      "metadata": {
        "colab": {
          "base_uri": "https://localhost:8080/"
        },
        "id": "XiNiue4Jd-ly",
        "outputId": "a120ac6d-9fe0-4024-e960-52bf996edf51"
      },
      "execution_count": 5,
      "outputs": [
        {
          "output_type": "execute_result",
          "data": {
            "text/plain": [
              "array([[1, 2, 3],\n",
              "       [4, 5, 6]])"
            ]
          },
          "metadata": {},
          "execution_count": 5
        }
      ]
    }
  ],
  "metadata": {
    "colab": {
      "name": "Untitled7.ipynb",
      "provenance": [],
      "authorship_tag": "ABX9TyMWjBcq2/o3Bm0rSDHg6C+5",
      "include_colab_link": true
    },
    "kernelspec": {
      "display_name": "Python 3",
      "name": "python3"
    },
    "language_info": {
      "name": "python"
    }
  },
  "nbformat": 4,
  "nbformat_minor": 0
}