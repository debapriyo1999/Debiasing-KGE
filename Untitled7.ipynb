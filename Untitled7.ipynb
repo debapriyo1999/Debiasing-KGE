{
  "cells": [
    {
      "cell_type": "markdown",
      "metadata": {
        "id": "view-in-github",
        "colab_type": "text"
      },
      "source": [
        "<a href=\"https://colab.research.google.com/github/debapriyo1999/Debiasing-KGE/blob/master/Untitled7.ipynb\" target=\"_parent\"><img src=\"https://colab.research.google.com/assets/colab-badge.svg\" alt=\"Open In Colab\"/></a>"
      ]
    },
    {
      "cell_type": "code",
      "execution_count": null,
      "metadata": {
        "colab": {
          "base_uri": "https://localhost:8080/"
        },
        "id": "2GRURGw_AbtX",
        "outputId": "3272f5a9-57d6-4cba-a23a-4adcf8f436f8"
      },
      "outputs": [
        {
          "name": "stdout",
          "output_type": "stream",
          "text": [
            "Mounted at /content/drive/\n"
          ]
        }
      ],
      "source": [
        "from google.colab import drive\n",
        "drive.mount('/content/drive/')"
      ]
    },
    {
      "cell_type": "code",
      "execution_count": null,
      "metadata": {
        "id": "IgfFfCIAKIur"
      },
      "outputs": [],
      "source": [
        "path='/content/drive/MyDrive/entity2vec.bin'"
      ]
    },
    {
      "cell_type": "code",
      "execution_count": null,
      "metadata": {
        "id": "Ad8ms94H-9OO"
      },
      "outputs": [],
      "source": [
        "gg= open(\"/content/drive/MyDrive/entity2vec.bin\", \"rb\")"
      ]
    },
    {
      "cell_type": "code",
      "execution_count": null,
      "metadata": {
        "colab": {
          "background_save": true
        },
        "id": "EbfasP8Y_Y7K"
      },
      "outputs": [],
      "source": [
        "byte = gg.read(100)\n",
        "while byte:\n",
        "  number=list(byte)\n",
        "  print(number)\n",
        "  byte = gg.read(100)\n",
        "gg.close()"
      ]
    }
  ],
  "metadata": {
    "colab": {
      "name": "Untitled7.ipynb",
      "provenance": [],
      "authorship_tag": "ABX9TyMUCxB3wT+IkRSqerjkllrc",
      "include_colab_link": true
    },
    "kernelspec": {
      "display_name": "Python 3",
      "name": "python3"
    },
    "language_info": {
      "name": "python"
    }
  },
  "nbformat": 4,
  "nbformat_minor": 0
}